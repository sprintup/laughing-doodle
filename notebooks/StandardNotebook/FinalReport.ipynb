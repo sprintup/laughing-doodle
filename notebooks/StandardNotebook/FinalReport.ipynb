{
  "nbformat": 4,
  "nbformat_minor": 0,
  "metadata": {
    "colab": {
      "provenance": [],
      "include_colab_link": true
    },
    "kernelspec": {
      "name": "python3",
      "display_name": "Python 3"
    },
    "language_info": {
      "name": "python"
    },
    "accelerator": "GPU"
  },
  "cells": [
    {
      "cell_type": "markdown",
      "metadata": {
        "id": "view-in-github",
        "colab_type": "text"
      },
      "source": [
        "<a href=\"https://colab.research.google.com/github/sprintup/AI/blob/main/FinalReport.ipynb\" target=\"_parent\"><img src=\"https://colab.research.google.com/assets/colab-badge.svg\" alt=\"Open In Colab\"/></a>"
      ]
    },
    {
      "cell_type": "markdown",
      "source": [
        "# Final Report"
      ],
      "metadata": {
        "id": "0Cv7AG9DiSAZ"
      }
    },
    {
      "cell_type": "markdown",
      "source": [
        "***\n",
        "## Data Loaders"
      ],
      "metadata": {
        "id": "oNdLtcFLjLY0"
      }
    },
    {
      "cell_type": "code",
      "source": [
        "from google.colab import drive\n",
        "drive.mount('/content/drive')"
      ],
      "metadata": {
        "colab": {
          "base_uri": "https://localhost:8080/"
        },
        "id": "2HWfRWu4LYO5",
        "outputId": "f03225ec-adaa-451f-efa4-93faa9d0a5c6"
      },
      "execution_count": null,
      "outputs": [
        {
          "output_type": "stream",
          "name": "stdout",
          "text": [
            "Mounted at /content/drive\n"
          ]
        }
      ]
    },
    {
      "cell_type": "code",
      "source": [
        "import zipfile\n",
        "import matplotlib.pyplot as plt\n",
        "from tensorflow.keras.preprocessing.image import ImageDataGenerator"
      ],
      "metadata": {
        "id": "BJws-XnwMxCC"
      },
      "execution_count": null,
      "outputs": []
    },
    {
      "cell_type": "code",
      "source": [
        "path = '/content/drive/MyDrive/Colab Notebooks/9f_Facial Emotion Detection/Facial_emotion_images.zip'\n",
        "\n",
        "with zipfile.ZipFile(path, 'r') as zip_ref:\n",
        "  zip_ref.extractall()"
      ],
      "metadata": {
        "id": "R5a5_EpdMIf5"
      },
      "execution_count": null,
      "outputs": []
    },
    {
      "cell_type": "code",
      "source": [
        "from tensorflow.keras.callbacks import History\n",
        "picture_size = 48\n",
        "\n",
        "class arnold:\n",
        "    illBeBack = 'happy'\n",
        "    hastaLaVistaBaby = 'neutral'\n",
        "    comeWithMeIfYouWantToLive ='sad'\n",
        "    getToTheChoppa = 'surprise'\n",
        "    terminator = 'train'\n",
        "    judgementDay = 'validation'\n",
        "    riseOfTheMachines = 'test'\n",
        "\n",
        "\n",
        "\n",
        "def getFolderPath(emotionType: str = \"\", dataCategory=arnold.terminator) -> str:\n",
        "  \"\"\"\n",
        "  emotionType = 'happy', 'neutral', 'sad', 'surprise'\n",
        "  dataCategory = 'train'(default), 'validation', 'test'\n",
        "  \"\"\"\n",
        "  base = \"Facial_emotion_images/\"\n",
        "  if emotionType != \"\":\n",
        "    return base + dataCategory + \"/\" + emotionType + \"/\"\n",
        "  else:\n",
        "    return base + dataCategory\n",
        "\n",
        "def displayImages(emotionType, dataCategory=arnold.terminator):\n",
        "  folder_path = getFolderPath(emotionType, dataCategory=dataCategory)\n",
        "  plt.figure(figsize = (12,12))\n",
        "\n",
        "  for i in range(1, 10, 1):\n",
        "    plt.subplot(3,3,i)\n",
        "    img = load_img(folder_path + os.listdir(folder_path)[i],\n",
        "                  target_size=(picture_size, picture_size))\n",
        "    plt.imshow(img)\n",
        "\n",
        "def getImageDataGenerator():\n",
        "  return ImageDataGenerator(horizontal_flip=True,\n",
        "                                   brightness_range=(0.,2.),\n",
        "                                   rescale=1./255,\n",
        "                                   shear_range=0.3)\n",
        "\n",
        "def vectorizeDataGenerator(imageDataGenerator: ImageDataGenerator, dataCategory = arnold.terminator, color_mode = 'rgb', batch_size = 32, img_size = 48, classes = False):\n",
        "  \"\"\"\n",
        "  color_mode = 'rgb' (default), 'grayscale'\n",
        "  \"\"\"\n",
        "  if classes == True:\n",
        "    classes = [arnold.illBeBack, arnold.comeWithMeIfYouWantToLive, arnold.hastaLaVistaBaby, arnold.getToTheChoppa]\n",
        "    return imageDataGenerator.flow_from_directory(getFolderPath(dataCategory=dataCategory),\n",
        "                                              target_size = (img_size, img_size),\n",
        "                                              color_mode = color_mode,\n",
        "                                              batch_size= batch_size,\n",
        "                                              class_mode = 'categorical',\n",
        "                                              classes = classes,\n",
        "                                              shuffle = True)\n",
        "  else:  \n",
        "    return imageDataGenerator.flow_from_directory(getFolderPath(dataCategory=dataCategory),\n",
        "                                              target_size = (img_size, img_size),\n",
        "                                              color_mode = color_mode,\n",
        "                                              batch_size= batch_size,\n",
        "                                              class_mode = 'categorical',\n",
        "                                              shuffle = True)\n",
        "  \n",
        "def plotGraph(history: History, modelName = 'Model Accuracy'):\n",
        "  plt.plot(history.history['accuracy'])\n",
        "  plt.plot(history.history['val_accuracy'])\n",
        "  plt.title(modelName)\n",
        "  plt.ylabel('Accuracy')\n",
        "  plt.xlabel('Epoch')\n",
        "  plt.legend(['Train','Validation'], loc='upper left')\n",
        "  plt.show()"
      ],
      "metadata": {
        "id": "K-rXXpm_M4xA"
      },
      "execution_count": null,
      "outputs": []
    },
    {
      "cell_type": "code",
      "source": [
        "datagen_train = getImageDataGenerator()\n",
        "train_set = vectorizeDataGenerator(datagen_train)\n",
        "\n",
        "datagen_validation = getImageDataGenerator()\n",
        "validation_set = vectorizeDataGenerator(datagen_validation, arnold.judgementDay)\n",
        "\n",
        "datagen_test = getImageDataGenerator()\n",
        "test_set = vectorizeDataGenerator(datagen_test, arnold.riseOfTheMachines)"
      ],
      "metadata": {
        "colab": {
          "base_uri": "https://localhost:8080/"
        },
        "id": "L6gz5bw2NtpZ",
        "outputId": "68785a5b-9397-4c56-f2a9-9f976fb39c4c"
      },
      "execution_count": null,
      "outputs": [
        {
          "output_type": "stream",
          "name": "stdout",
          "text": [
            "Found 15109 images belonging to 4 classes.\n",
            "Found 4977 images belonging to 4 classes.\n",
            "Found 128 images belonging to 4 classes.\n"
          ]
        }
      ]
    },
    {
      "cell_type": "code",
      "source": [
        "datagen2_train = getImageDataGenerator()\n",
        "train_set2 = vectorizeDataGenerator(datagen2_train, color_mode='grayscale', classes=True)\n",
        "\n",
        "datagen2_validation = getImageDataGenerator()\n",
        "validation_set2 = vectorizeDataGenerator(datagen2_train, color_mode='grayscale', classes=True, dataCategory=arnold.judgementDay)\n",
        "\n",
        "datagen2_test = getImageDataGenerator()\n",
        "test_set2 = vectorizeDataGenerator(datagen2_train, color_mode='grayscale', classes=True, dataCategory=arnold.riseOfTheMachines)"
      ],
      "metadata": {
        "colab": {
          "base_uri": "https://localhost:8080/"
        },
        "id": "LXCz6XoFsBnW",
        "outputId": "796e354a-e93c-456e-cb66-f8c4feaf8b76"
      },
      "execution_count": null,
      "outputs": [
        {
          "output_type": "stream",
          "name": "stdout",
          "text": [
            "Found 15109 images belonging to 4 classes.\n",
            "Found 4977 images belonging to 4 classes.\n",
            "Found 128 images belonging to 4 classes.\n"
          ]
        }
      ]
    },
    {
      "cell_type": "code",
      "source": [
        "from tensorflow.keras.models import Sequential\n",
        "from tensorflow.keras.layers import Conv2D, Dense, BatchNormalization, Flatten, LeakyReLU, MaxPooling2D, Dropout"
      ],
      "metadata": {
        "id": "YlJK7lvPxt9r"
      },
      "execution_count": null,
      "outputs": []
    },
    {
      "cell_type": "code",
      "source": [
        "model3 = Sequential()\n",
        "\n",
        "#first layer\n",
        "model3.add(Conv2D(64, (2,2), input_shape = (48,48,1), activation='relu'))\n",
        "model3.add(BatchNormalization())\n",
        "model3.add(LeakyReLU(0.1))\n",
        "model3.add(MaxPooling2D(2))\n",
        "model3.add(Dropout(0.2))\n",
        "\n",
        "#second layer\n",
        "model3.add(Conv2D(128, (2,2), activation='relu', padding='same'))\n",
        "model3.add(BatchNormalization())\n",
        "model3.add(LeakyReLU(0.1))\n",
        "model3.add(MaxPooling2D(2))\n",
        "model3.add(Dropout(0.2))\n",
        "\n",
        "\n",
        "#third layer\n",
        "model3.add(Conv2D(512, (2,2),padding='same',activation='relu'))\n",
        "model3.add(BatchNormalization())\n",
        "model3.add(LeakyReLU(0.1))\n",
        "model3.add(MaxPooling2D(2))\n",
        "model3.add(Dropout(0.2))\n",
        "\n",
        "#fourth block\n",
        "model3.add(Conv2D(512, (2,2),padding='same',activation='relu'))\n",
        "\n",
        "#fifth block\n",
        "model3.add(Conv2D(128, (2,2),padding='same',activation='relu'))\n",
        "\n",
        "#classification layer\n",
        "model3.add(Flatten())\n",
        "\n",
        "model3.add(Dense(256, activation='relu'))\n",
        "model3.add(BatchNormalization())\n",
        "model3.add(Dropout(0.2))\n",
        "\n",
        "model3.add(Dense(512, activation='relu'))\n",
        "model3.add(BatchNormalization())\n",
        "model3.add(Dropout(0.2))\n",
        "\n",
        "model3.add(Dense(4, activation = 'softmax'))"
      ],
      "metadata": {
        "id": "W_DEpkG_xAwm"
      },
      "execution_count": null,
      "outputs": []
    },
    {
      "cell_type": "code",
      "source": [
        "from keras.callbacks import ModelCheckpoint, ReduceLROnPlateau, CSVLogger\n",
        "\n",
        "epochs = 35\n",
        "\n",
        "steps_per_epoch = train_set.n//train_set.batch_size\n",
        "validation_steps = validation_set.n//validation_set.batch_size\n",
        "\n",
        "checkpoint = ModelCheckpoint(\"model3.h5\", monitor = 'val_accuracy',\n",
        "                            save_weights_only = True, model = 'max', verbose = 1)\n",
        "\n",
        "reduce_lr = ReduceLROnPlateau(monitor = 'val_loss', factor = 0.1, patience = 2, min_lr = 0.0001 , model = 'auto')\n",
        "\n",
        "callbacks = [checkpoint, reduce_lr]"
      ],
      "metadata": {
        "id": "OXJj13R7vwUz"
      },
      "execution_count": null,
      "outputs": []
    },
    {
      "cell_type": "code",
      "source": [
        "from tensorflow.keras.optimizers import Adam\n",
        "model3.compile(loss='categorical_crossentropy',\n",
        "               optimizer=Adam(0.003),\n",
        "               metrics=['accuracy'])"
      ],
      "metadata": {
        "id": "ga_-d_qj27Sb"
      },
      "execution_count": null,
      "outputs": []
    },
    {
      "cell_type": "code",
      "source": [
        "model3History = model3.fit(train_set2,\n",
        "                          validation_data = validation_set2,\n",
        "                          steps_per_epoch = train_set.n / train_set.batch_size,\n",
        "                          epochs=35)"
      ],
      "metadata": {
        "colab": {
          "base_uri": "https://localhost:8080/"
        },
        "id": "G_r49g2g4n5j",
        "outputId": "73d6fa2b-504e-44b1-f4f5-6be3fda76760"
      },
      "execution_count": null,
      "outputs": [
        {
          "output_type": "stream",
          "name": "stdout",
          "text": [
            "Epoch 1/35\n",
            "472/472 [==============================] - 31s 45ms/step - loss: 1.5354 - accuracy: 0.2894 - val_loss: 1.3600 - val_accuracy: 0.3659\n",
            "Epoch 2/35\n",
            "472/472 [==============================] - 18s 39ms/step - loss: 1.3342 - accuracy: 0.3878 - val_loss: 1.1695 - val_accuracy: 0.4808\n",
            "Epoch 3/35\n",
            "472/472 [==============================] - 18s 39ms/step - loss: 1.2203 - accuracy: 0.4453 - val_loss: 4.6174 - val_accuracy: 0.1617\n",
            "Epoch 4/35\n",
            "472/472 [==============================] - 18s 39ms/step - loss: 1.2152 - accuracy: 0.4515 - val_loss: 1.2360 - val_accuracy: 0.4049\n",
            "Epoch 5/35\n",
            "472/472 [==============================] - 19s 39ms/step - loss: 1.1408 - accuracy: 0.4909 - val_loss: 1.0865 - val_accuracy: 0.5138\n",
            "Epoch 6/35\n",
            "472/472 [==============================] - 19s 39ms/step - loss: 1.0953 - accuracy: 0.5086 - val_loss: 1.4071 - val_accuracy: 0.3388\n",
            "Epoch 7/35\n",
            "472/472 [==============================] - 19s 40ms/step - loss: 1.1092 - accuracy: 0.5014 - val_loss: 1.5592 - val_accuracy: 0.5200\n",
            "Epoch 8/35\n",
            "472/472 [==============================] - 19s 39ms/step - loss: 1.0318 - accuracy: 0.5452 - val_loss: 1.0032 - val_accuracy: 0.5708\n",
            "Epoch 9/35\n",
            "472/472 [==============================] - 19s 40ms/step - loss: 1.0012 - accuracy: 0.5640 - val_loss: 0.9389 - val_accuracy: 0.6000\n",
            "Epoch 10/35\n",
            "472/472 [==============================] - 19s 40ms/step - loss: 0.9587 - accuracy: 0.5816 - val_loss: 0.9589 - val_accuracy: 0.5893\n",
            "Epoch 11/35\n",
            "472/472 [==============================] - 20s 43ms/step - loss: 0.9240 - accuracy: 0.6071 - val_loss: 1.0831 - val_accuracy: 0.6257\n",
            "Epoch 12/35\n",
            "472/472 [==============================] - 19s 39ms/step - loss: 0.9078 - accuracy: 0.6132 - val_loss: 0.8661 - val_accuracy: 0.6482\n",
            "Epoch 13/35\n",
            "472/472 [==============================] - 19s 39ms/step - loss: 0.9077 - accuracy: 0.6077 - val_loss: 0.9288 - val_accuracy: 0.6164\n",
            "Epoch 14/35\n",
            "472/472 [==============================] - 19s 39ms/step - loss: 0.8635 - accuracy: 0.6354 - val_loss: 0.8543 - val_accuracy: 0.6532\n",
            "Epoch 15/35\n",
            "472/472 [==============================] - 19s 39ms/step - loss: 0.9884 - accuracy: 0.5654 - val_loss: 1.0562 - val_accuracy: 0.5471\n",
            "Epoch 16/35\n",
            "472/472 [==============================] - 19s 39ms/step - loss: 0.9871 - accuracy: 0.5716 - val_loss: 0.9026 - val_accuracy: 0.6132\n",
            "Epoch 17/35\n",
            "472/472 [==============================] - 19s 39ms/step - loss: 0.9224 - accuracy: 0.6066 - val_loss: 1.2680 - val_accuracy: 0.4067\n",
            "Epoch 18/35\n",
            "472/472 [==============================] - 19s 40ms/step - loss: 0.8747 - accuracy: 0.6304 - val_loss: 0.8093 - val_accuracy: 0.6801\n",
            "Epoch 19/35\n",
            "472/472 [==============================] - 18s 39ms/step - loss: 0.8535 - accuracy: 0.6371 - val_loss: 0.8302 - val_accuracy: 0.6771\n",
            "Epoch 20/35\n",
            "472/472 [==============================] - 20s 43ms/step - loss: 0.8287 - accuracy: 0.6515 - val_loss: 1.1547 - val_accuracy: 0.6733\n",
            "Epoch 21/35\n",
            "472/472 [==============================] - 19s 39ms/step - loss: 0.8115 - accuracy: 0.6604 - val_loss: 8.6179 - val_accuracy: 0.6251\n",
            "Epoch 22/35\n",
            "472/472 [==============================] - 19s 39ms/step - loss: 0.7928 - accuracy: 0.6671 - val_loss: 0.8061 - val_accuracy: 0.6914\n",
            "Epoch 23/35\n",
            "472/472 [==============================] - 19s 40ms/step - loss: 0.7954 - accuracy: 0.6719 - val_loss: 0.8045 - val_accuracy: 0.6815\n",
            "Epoch 24/35\n",
            "472/472 [==============================] - 18s 39ms/step - loss: 0.8502 - accuracy: 0.6411 - val_loss: 2.3073 - val_accuracy: 0.6164\n",
            "Epoch 25/35\n",
            "472/472 [==============================] - 19s 39ms/step - loss: 0.8397 - accuracy: 0.6472 - val_loss: 0.8082 - val_accuracy: 0.6701\n",
            "Epoch 26/35\n",
            "472/472 [==============================] - 19s 40ms/step - loss: 0.7873 - accuracy: 0.6719 - val_loss: 1.6978 - val_accuracy: 0.6884\n",
            "Epoch 27/35\n",
            "472/472 [==============================] - 19s 40ms/step - loss: 0.7752 - accuracy: 0.6767 - val_loss: 1.6988 - val_accuracy: 0.6709\n",
            "Epoch 28/35\n",
            "472/472 [==============================] - 20s 42ms/step - loss: 0.7584 - accuracy: 0.6809 - val_loss: 2.0141 - val_accuracy: 0.6805\n",
            "Epoch 29/35\n",
            "472/472 [==============================] - 19s 40ms/step - loss: 0.7490 - accuracy: 0.6884 - val_loss: 0.7456 - val_accuracy: 0.7022\n",
            "Epoch 30/35\n",
            "472/472 [==============================] - 18s 38ms/step - loss: 0.7837 - accuracy: 0.6712 - val_loss: 0.8177 - val_accuracy: 0.6618\n",
            "Epoch 31/35\n",
            "472/472 [==============================] - 18s 39ms/step - loss: 0.7537 - accuracy: 0.6867 - val_loss: 0.7277 - val_accuracy: 0.7103\n",
            "Epoch 32/35\n",
            "472/472 [==============================] - 18s 39ms/step - loss: 0.7218 - accuracy: 0.7016 - val_loss: 0.7387 - val_accuracy: 0.7022\n",
            "Epoch 33/35\n",
            "472/472 [==============================] - 18s 39ms/step - loss: 0.7102 - accuracy: 0.7083 - val_loss: 1.0050 - val_accuracy: 0.6448\n",
            "Epoch 34/35\n",
            "472/472 [==============================] - 18s 39ms/step - loss: 0.7088 - accuracy: 0.7108 - val_loss: 0.7633 - val_accuracy: 0.6932\n",
            "Epoch 35/35\n",
            "472/472 [==============================] - 18s 39ms/step - loss: 0.6972 - accuracy: 0.7142 - val_loss: 0.7443 - val_accuracy: 0.6950\n"
          ]
        }
      ]
    },
    {
      "cell_type": "code",
      "source": [
        "plotGraph(model3History,\"Model 3\")\n",
        "model3.save(\"./model3\")"
      ],
      "metadata": {
        "colab": {
          "base_uri": "https://localhost:8080/",
          "height": 332
        },
        "id": "9j43nAzC5Ah7",
        "outputId": "c3861a5f-8e56-4d7f-98a0-01e865c43783"
      },
      "execution_count": null,
      "outputs": [
        {
          "output_type": "display_data",
          "data": {
            "text/plain": [
              "<Figure size 432x288 with 1 Axes>"
            ],
            "image/png": "[encoded data removed]"
          },
          "metadata": {
            "needs_background": "light"
          }
        },
        {
          "output_type": "stream",
          "name": "stderr",
          "text": [
            "WARNING:absl:Found untraced functions such as _jit_compiled_convolution_op, _jit_compiled_convolution_op, _jit_compiled_convolution_op, _jit_compiled_convolution_op, _jit_compiled_convolution_op while saving (showing 5 of 5). These functions will not be directly callable after loading.\n"
          ]
        }
      ]
    },
    {
      "cell_type": "markdown",
      "source": [
        "### Observations of model 3\n",
        "- This model is significantly more accurate than the pre-trained models that did not have fine tuning.The accuracy of this model for the validation data approach 70% at about 30 epochs before beginning to overfit. \n",
        "- Since the model starts to overfit the training data, it would be beneficial to reduce the number of epochs. However, if other adjustments reduce overfitting, perhaps the complete model might converge at a higher accuracy. Such adjustments might be different initial weights, adjusting early stopping parameters.\n",
        "- The final accuracy on the test set is around 73%"
      ],
      "metadata": {
        "id": "CK5x8xsoE2rv"
      }
    },
    {
      "cell_type": "markdown",
      "source": [
        "***\n",
        "## Confusion Matrix"
      ],
      "metadata": {
        "id": "miqe9nAwx1vf"
      }
    },
    {
      "cell_type": "code",
      "source": [
        "import numpy as np\n",
        "import seaborn as sns\n",
        "# Plot the confusion matrix and generate a classification report for the model\n",
        "from sklearn.metrics import classification_report\n",
        "from sklearn.metrics import confusion_matrix\n",
        "\n",
        "img_size = 48\n",
        "test_set = datagen_test.flow_from_directory(getFolderPath(dataCategory=arnold.riseOfTheMachines),\n",
        "                                            target_size = (img_size,img_size),\n",
        "                                            color_mode = 'grayscale',\n",
        "                                            batch_size = 128,\n",
        "                                            class_mode = 'categorical',\n",
        "                                            classes = ['happy', 'sad', 'neutral', 'surprise'],\n",
        "                                            shuffle = True) \n",
        "\n",
        "# test_set = vectorizeDataGenerator(datagen_test,dataCategory=arnold.riseOfTheMachines, color_mode='grayscale',classes=True)\n"
      ],
      "metadata": {
        "colab": {
          "base_uri": "https://localhost:8080/"
        },
        "id": "AzXtXcQE5Tgb",
        "outputId": "fb0f279a-4460-4541-d835-17216c8ec92e"
      },
      "execution_count": null,
      "outputs": [
        {
          "output_type": "stream",
          "name": "stdout",
          "text": [
            "Found 128 images belonging to 4 classes.\n"
          ]
        }
      ]
    },
    {
      "cell_type": "code",
      "source": [
        "\n",
        "test_images, test_labels = next(test_set)\n",
        "\n",
        "# Write the name of your chosen model in the blank\n",
        "pred = model3.predict(test_images)\n",
        "pred = np.argmax(pred, axis = 1) \n",
        "y_true = np.argmax(test_labels, axis = 1)\n",
        "\n",
        "# Printing the classification report\n",
        "print(classification_report(y_true, pred))\n",
        "\n",
        "# Plotting the heatmap using confusion matrix\n",
        "cm = confusion_matrix(y_true, pred)\n",
        "plt.figure(figsize = (8, 5))\n",
        "sns.heatmap(cm, annot = True,  fmt = '.0f', xticklabels = ['happy', 'sad', 'neutral', 'surprise'], yticklabels = ['happy', 'sad', 'neutral', 'surprise'])\n",
        "plt.ylabel('Actual')\n",
        "plt.xlabel('Predicted')\n",
        "plt.show()"
      ],
      "metadata": {
        "colab": {
          "base_uri": "https://localhost:8080/",
          "height": 542
        },
        "id": "ojPDt2b8wux3",
        "outputId": "c158bcc3-f3ec-4408-d68c-b5326af96ab7"
      },
      "execution_count": null,
      "outputs": [
        {
          "output_type": "stream",
          "name": "stdout",
          "text": [
            "4/4 [==============================] - 0s 7ms/step\n",
            "              precision    recall  f1-score   support\n",
            "\n",
            "           0       0.80      0.88      0.84        32\n",
            "           1       0.62      0.47      0.54        32\n",
            "           2       0.60      0.75      0.67        32\n",
            "           3       0.93      0.84      0.89        32\n",
            "\n",
            "    accuracy                           0.73       128\n",
            "   macro avg       0.74      0.73      0.73       128\n",
            "weighted avg       0.74      0.73      0.73       128\n",
            "\n"
          ]
        },
        {
          "output_type": "display_data",
          "data": {
            "text/plain": [
              "<Figure size 576x360 with 2 Axes>"
            ],
            "image/png": "[encoded data removed]"
          },
          "metadata": {
            "needs_background": "light"
          }
        }
      ]
    },
    {
      "cell_type": "markdown",
      "source": [
        "### Observations of Model 3 Confusion Matrix\n",
        "- Sad faces were misclassified as neutral 10 times in the test set of 128 images that was set by the batch_size.\n",
        "- It's hard to say which order the classification report gives the categories, such as which emotion category relates to 0,1,2,3, but inferring from the [gist](https://gist.github.com/fchollet/0830affa1f7f19fd47b06d4cf89ed44d#file-classifier_from_little_data_script_1-py-L49), included in the docs, has the categories for dog and cat listed alphabetically. Further, the [ImageDataGenerator.flow_from_directory](https://www.tensorflow.org/api_docs/python/tf/keras/preprocessing/image/ImageDataGenerator#flow_from_directory) method says the classes will be listed alphanumerically if not prescribed. However, they are prescribed in the order **happy**, **sad**, **neutral**, and **surprised**. So that's the order I'll read the rows in the classification report. \n",
        "- The category with the highest f1 score is surprised with 87%, making it the easiest to categorize.\n",
        "- The category with the lowest f1 score, making it the hardest to categorize is sad, at 58%. \n",
        "- Sad was mistaken for happy 3 times, which is not a large amount, but a mistake with more potential impact with applications meant to diagnose conditions like depression.\n",
        "- Neutral was misclassified as surprised zero times, which bodes well for driving a vehicle equiped with emotion detection software. "
      ],
      "metadata": {
        "id": "95-88aVlNmay"
      }
    },
    {
      "cell_type": "markdown",
      "source": [
        "***\n",
        "## Insights\n"
      ],
      "metadata": {
        "id": "zbzLYgAr0Ggl"
      }
    },
    {
      "cell_type": "markdown",
      "source": [
        "\n",
        "- Four models were tried and reached these accuracies: \n",
        "  - VGG16(50%)\n",
        "  - ResNet(Untested on test data, ~30% on validation, no convergence)\n",
        "  - EfficientNet (~30%, again, no convergence)\n",
        "  - Complex NN Architecture (~73%)\n",
        "- Two of the 4 models were not producing results, due to their underfitting the data and lack of convergence . These models might be improved with some fine tuning. \n",
        "- The models in Milestone 1 reached accuracies of around 64%, 65%, 66%, making the last model the most accurate so far, however, again, these models could be improved with some hyperparameter tuning.\n",
        "- The model was not as good at determining the difference between emotions like happy/sad, which would make mental health diagnostic software less accurate overall. However, it performed better between suprise/neutral which would make it better in applications like emotion detection while driving. "
      ],
      "metadata": {
        "id": "B3xi3oqyjCRl"
      }
    },
    {
      "cell_type": "code",
      "source": [],
      "metadata": {
        "id": "gDJhZooXj5lR"
      },
      "execution_count": null,
      "outputs": []
    }
  ]
}